{
 "cells": [
  {
   "attachments": {},
   "cell_type": "markdown",
   "metadata": {},
   "source": [
    "# Exercise\n",
    "#### Pokemon API Wrapper\n",
    "Create a python wrapper for the Pokemon API. It should take in a pokemon name and display the pokemon with its height and weight"
   ]
  },
  {
   "cell_type": "code",
   "execution_count": 24,
   "metadata": {},
   "outputs": [
    {
     "name": "stdout",
     "output_type": "stream",
     "text": [
      "Pikachu - Height:60, Weight:4\n"
     ]
    }
   ],
   "source": [
    "import requests\n",
    "\n",
    "class PokemonMeasures:\n",
    "    base_url = 'https://pokeapi.co/api/v2/pokemon'\n",
    "\n",
    "    def __init__(self, name):\n",
    "        #get pokemon json as pokemon\n",
    "        if not isinstance(name, str):\n",
    "            raise Exception(\"Invalid input. PkemonMeasures takes in string\")\n",
    "        pokemon_response = requests.get(f\"{self.base_url}/{name.strip(' ,.').lower()}/\")\n",
    "        if not pokemon_response.ok:\n",
    "            raise Exception(\"Get request failed. No such pokemon\")\n",
    "\n",
    "        pokemon_data = pokemon_response.json()\n",
    "        self.name = name\n",
    "        self.height = pokemon_data[\"weight\"]\n",
    "        self.weight = pokemon_data[\"height\"]\n",
    "\n",
    "    def __str__(self):\n",
    "        return f\"{self.name.title()} - Height:{self.height}, Weight:{self.weight}\"\n",
    "\n",
    "    def __repr__(self) -> str:\n",
    "        return f\"<PokemonMeasure object | {self.name}>\"\n",
    "\n",
    "my_poke = PokemonMeasures(\"pikachu\")\n",
    "print(my_poke)\n",
    "\n",
    "\n"
   ]
  }
 ],
 "metadata": {
  "kernelspec": {
   "display_name": "base",
   "language": "python",
   "name": "python3"
  },
  "language_info": {
   "codemirror_mode": {
    "name": "ipython",
    "version": 3
   },
   "file_extension": ".py",
   "mimetype": "text/x-python",
   "name": "python",
   "nbconvert_exporter": "python",
   "pygments_lexer": "ipython3",
   "version": "3.9.13"
  },
  "orig_nbformat": 4,
  "vscode": {
   "interpreter": {
    "hash": "0aa4d21b8a2e0bb12c661ca945d2ddc92614cd25e288833b7ab8de886edec9a8"
   }
  }
 },
 "nbformat": 4,
 "nbformat_minor": 2
}
