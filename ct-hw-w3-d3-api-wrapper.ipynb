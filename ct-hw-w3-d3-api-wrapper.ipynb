{
 "cells": [
  {
   "attachments": {},
   "cell_type": "markdown",
   "metadata": {},
   "source": [
    "# Exercise\n",
    "#### Pokemon API Wrapper\n",
    "Create a python wrapper for the Pokemon API. It should take in a pokemon name and display the pokemon with its height and weight"
   ]
  },
  {
   "cell_type": "code",
   "execution_count": 24,
   "metadata": {},
   "outputs": [
    {
     "name": "stdout",
     "output_type": "stream",
     "text": [
      "Pikachu - Height:60, Weight:4\n"
     ]
    }
   ],
   "source": [
    "import requests\n",
    "\n",
    "class PokemonMeasures:\n",
    "    base_url = 'https://pokeapi.co/api/v2/pokemon'\n",
    "\n",
    "    def __init__(self, name):\n",
    "        #get pokemon json as pokemon\n",
    "        if not isinstance(name, str):\n",
    "            raise Exception(\"Invalid input. PkemonMeasures takes in string\")\n",
    "        pokemon_response = requests.get(f\"{self.base_url}/{name.strip(' ,.').lower()}/\")\n",
    "        if not pokemon_response.ok:\n",
    "            raise Exception(\"Get request failed. No such pokemon\")\n",
    "\n",
    "        pokemon_data = pokemon_response.json()\n",
    "        self.name = name\n",
    "        self.height = pokemon_data[\"weight\"]\n",
    "        self.weight = pokemon_data[\"height\"]\n",
    "\n",
    "    def __str__(self):\n",
    "        return f\"{self.name.title()} - Height:{self.height}, Weight:{self.weight}\"\n",
    "\n",
    "    def __repr__(self) -> str:\n",
    "        return f\"<PokemonMeasure object | {self.name}>\"\n",
    "\n",
    "my_poke = PokemonMeasures(\"pikachu\")\n",
    "print(my_poke)"
   ]
  },
  {
   "attachments": {},
   "cell_type": "markdown",
   "metadata": {},
   "source": [
    "### Experimenting with Faker package"
   ]
  },
  {
   "cell_type": "code",
   "execution_count": 1,
   "metadata": {},
   "outputs": [
    {
     "data": {
      "text/plain": [
       "[{'first_name': 'Zachary',\n",
       "  'last_name': 'Weber',\n",
       "  'city': 'Hayleyborough',\n",
       "  'email': 'zachary.weber@gmail.com',\n",
       "  'occupation': {'company': 'Daniels Inc',\n",
       "   'position': 'Administrator, local government'}},\n",
       " {'first_name': 'Dawn',\n",
       "  'last_name': 'White',\n",
       "  'city': 'Bensonmouth',\n",
       "  'email': 'dawn.white@yahoo.com',\n",
       "  'occupation': {'company': 'Lawrence Group',\n",
       "   'position': 'Designer, television/film set'}},\n",
       " {'first_name': 'Darryl',\n",
       "  'last_name': 'Romero',\n",
       "  'city': 'Lake Thomasfurt',\n",
       "  'email': 'darryl.romero@yahoo.com',\n",
       "  'occupation': {'company': 'Lopez Group',\n",
       "   'position': 'Merchandiser, retail'}},\n",
       " {'first_name': 'Bill',\n",
       "  'last_name': 'Weber',\n",
       "  'city': 'New Tammybury',\n",
       "  'email': 'bill.weber@yahoo.com',\n",
       "  'occupation': {'company': 'Trujillo-Ward',\n",
       "   'position': 'Nutritional therapist'}},\n",
       " {'first_name': 'Joel',\n",
       "  'last_name': 'Mendoza',\n",
       "  'city': 'East Marissashire',\n",
       "  'email': 'joel.mendoza@hotmail.com',\n",
       "  'occupation': {'company': 'Sparks, Wagner and Williams',\n",
       "   'position': 'Counselling psychologist'}},\n",
       " {'first_name': 'William',\n",
       "  'last_name': 'Carlson',\n",
       "  'city': 'South Andrefort',\n",
       "  'email': 'william.carlson@hotmail.com',\n",
       "  'occupation': {'company': 'Vazquez PLC',\n",
       "   'position': 'Health service manager'}},\n",
       " {'first_name': 'David',\n",
       "  'last_name': 'Sanchez',\n",
       "  'city': 'Phillipsport',\n",
       "  'email': 'david.sanchez@gmail.com',\n",
       "  'occupation': {'company': 'Ramirez, Mckenzie and Hernandez',\n",
       "   'position': 'Energy engineer'}},\n",
       " {'first_name': 'Melissa',\n",
       "  'last_name': 'Johnson',\n",
       "  'city': 'East Jessica',\n",
       "  'email': 'melissa.johnson@yahoo.com',\n",
       "  'occupation': {'company': 'Faulkner LLC', 'position': 'Charity fundraiser'}},\n",
       " {'first_name': 'Loretta',\n",
       "  'last_name': 'Stanley',\n",
       "  'city': 'North Rodney',\n",
       "  'email': 'loretta.stanley@gmail.com',\n",
       "  'occupation': {'company': 'King, Calhoun and Wells',\n",
       "   'position': 'Therapeutic radiographer'}},\n",
       " {'first_name': 'Isabella',\n",
       "  'last_name': 'James',\n",
       "  'city': 'Lake Laurenfurt',\n",
       "  'email': 'isabella.james@gmail.com',\n",
       "  'occupation': {'company': 'Mcfarland Inc',\n",
       "   'position': 'Volunteer coordinator'}}]"
      ]
     },
     "execution_count": 1,
     "metadata": {},
     "output_type": "execute_result"
    }
   ],
   "source": [
    "from faker import Faker\n",
    "fake = Faker()\n",
    "fake_data = []\n",
    "\n",
    "for _ in range(10):\n",
    "    first = fake.first_name()\n",
    "    last = fake.last_name()\n",
    "    person_info = {\n",
    "        'first_name': first,\n",
    "        'last_name': last,\n",
    "        'city': fake.city(),\n",
    "        'email': f\"{first.lower()}.{last.lower()}@{fake.free_email_domain()}\",\n",
    "        'occupation': {\n",
    "            'company': fake.company(),\n",
    "            'position': fake.job()\n",
    "        }\n",
    "    }\n",
    "    fake_data.append(person_info)\n",
    "    \n",
    "fake_data "
   ]
  }
 ],
 "metadata": {
  "kernelspec": {
   "display_name": "base",
   "language": "python",
   "name": "python3"
  },
  "language_info": {
   "codemirror_mode": {
    "name": "ipython",
    "version": 3
   },
   "file_extension": ".py",
   "mimetype": "text/x-python",
   "name": "python",
   "nbconvert_exporter": "python",
   "pygments_lexer": "ipython3",
   "version": "3.10.9"
  },
  "orig_nbformat": 4,
  "vscode": {
   "interpreter": {
    "hash": "0aa4d21b8a2e0bb12c661ca945d2ddc92614cd25e288833b7ab8de886edec9a8"
   }
  }
 },
 "nbformat": 4,
 "nbformat_minor": 2
}
